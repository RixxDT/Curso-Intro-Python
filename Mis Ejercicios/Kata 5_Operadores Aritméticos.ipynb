{
 "cells": [
  {
   "cell_type": "markdown",
   "metadata": {},
   "source": [
    "EJERCICIO 1"
   ]
  },
  {
   "cell_type": "code",
   "execution_count": null,
   "metadata": {},
   "outputs": [],
   "source": [
    "#Datos\n",
    "tierra=149597870\n",
    "jupiter=778547200"
   ]
  },
  {
   "cell_type": "code",
   "execution_count": null,
   "metadata": {},
   "outputs": [],
   "source": [
    "dist=jupiter-tierra\n",
    "conv=dist*0.621\n",
    "\n",
    "print(\"La distancia entre planetas es:\",dist,\"km. La distancia es millas es:\",conv,\"mile.\")"
   ]
  },
  {
   "cell_type": "markdown",
   "metadata": {},
   "source": [
    "EJERCICIO 2"
   ]
  },
  {
   "cell_type": "code",
   "execution_count": 12,
   "metadata": {},
   "outputs": [
    {
     "name": "stdout",
     "output_type": "stream",
     "text": [
      "| Planeta  | Distancia al sol |\n",
      "| -------- | ---------------- |\n",
      "| Mercurio | 57900000         |\n",
      "| Venus    | 108200000        |\n",
      "| Tierra   | 149600000        |\n",
      "| Marte    | 227900000        |\n",
      "| Júpiter  | 778600000        |\n",
      "| Saturno  | 1433500000       |\n",
      "| Urano    | 2872500000       |\n",
      "| Neptuno  | 4495100000       |\n",
      "\n",
      "Ingrese la distancia del Sol para el primer planeta:\n",
      "Ingrese la distancia del Sol para el segundo planeta:\n",
      "La distancia entre planetas es: 1 km. La distancia es millas es: 0.621 mile.\n"
     ]
    }
   ],
   "source": [
    "print(\"\"\"| Planeta  | Distancia al sol |\n",
    "| -------- | ---------------- |\n",
    "| Mercurio | 57900000         |\n",
    "| Venus    | 108200000        |\n",
    "| Tierra   | 149600000        |\n",
    "| Marte    | 227900000        |\n",
    "| Júpiter  | 778600000        |\n",
    "| Saturno  | 1433500000       |\n",
    "| Urano    | 2872500000       |\n",
    "| Neptuno  | 4495100000       |\n",
    "\"\"\")\n",
    "\n",
    "planeta1=input(print(\"Ingrese la distancia del Sol para el primer planeta:\"))\n",
    "planeta2=input(print(\"Ingrese la distancia del Sol para el segundo planeta:\"))\n",
    "\n",
    "planeta1=int(planeta1)\n",
    "planeta2=int(planeta2)\n",
    "\n",
    "dist=planeta2-planeta1\n",
    "conv=dist*0.621\n",
    "\n",
    "dist=abs(dist)\n",
    "conv=abs(conv)\n",
    "\n",
    "print(\"La distancia entre planetas es:\",dist,\"km. La distancia es millas es:\",conv,\"mile.\")"
   ]
  }
 ],
 "metadata": {
  "interpreter": {
   "hash": "2be5faf79681da6f2a61fdfdd5405d65d042280f7fba6178067603e3a2925119"
  },
  "kernelspec": {
   "display_name": "Python 3.10.2 64-bit",
   "language": "python",
   "name": "python3"
  },
  "language_info": {
   "codemirror_mode": {
    "name": "ipython",
    "version": 3
   },
   "file_extension": ".py",
   "mimetype": "text/x-python",
   "name": "python",
   "nbconvert_exporter": "python",
   "pygments_lexer": "ipython3",
   "version": "3.10.2"
  },
  "orig_nbformat": 4
 },
 "nbformat": 4,
 "nbformat_minor": 2
}
