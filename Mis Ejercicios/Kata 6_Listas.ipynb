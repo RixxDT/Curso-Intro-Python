{
 "cells": [
  {
   "cell_type": "markdown",
   "metadata": {},
   "source": [
    "#EJERCICIO 1\n",
    "LISTA DE PANETAS"
   ]
  },
  {
   "cell_type": "code",
   "execution_count": 4,
   "metadata": {},
   "outputs": [
    {
     "name": "stdout",
     "output_type": "stream",
     "text": [
      "Son 8 contando: ['Mercurio', 'Venus', 'Tierra', 'Marte', 'Júpiter', 'Saturno', 'Urano', 'Nepturno']\n"
     ]
    }
   ],
   "source": [
    "planetas=['Mercurio','Venus','Tierra','Marte','Júpiter','Saturno','Urano','Nepturno']\n",
    "num_plan=len(planetas)\n",
    "\n",
    "print(\"Son\",num_plan,\"contando:\",planetas)"
   ]
  },
  {
   "cell_type": "code",
   "execution_count": 5,
   "metadata": {},
   "outputs": [
    {
     "name": "stdout",
     "output_type": "stream",
     "text": [
      "Agregado Plutón\n"
     ]
    }
   ],
   "source": [
    "planetas.append('Plutón')\n",
    "\n",
    "print(\"Agregado\",planetas[-1])"
   ]
  },
  {
   "cell_type": "markdown",
   "metadata": {},
   "source": [
    "#EJERCICIO 2\n",
    "LISTA INPUT"
   ]
  },
  {
   "cell_type": "code",
   "execution_count": 14,
   "metadata": {},
   "outputs": [],
   "source": [
    "planetas=['Mercurio','Venus','Tierra','Marte','Júpiter','Saturno','Urano','Nepturno']"
   ]
  },
  {
   "cell_type": "code",
   "execution_count": 15,
   "metadata": {},
   "outputs": [],
   "source": [
    "p_en=input(\"Ingresa el nombre de un planeta iniciando con MAYUSCULA:\")"
   ]
  },
  {
   "cell_type": "code",
   "execution_count": 16,
   "metadata": {},
   "outputs": [],
   "source": [
    "p_ind=planetas.index(p_en)"
   ]
  },
  {
   "cell_type": "code",
   "execution_count": 20,
   "metadata": {},
   "outputs": [
    {
     "name": "stdout",
     "output_type": "stream",
     "text": [
      "Planetas más cercanos a Júpiter\n",
      "['Mercurio', 'Venus', 'Tierra', 'Marte']\n"
     ]
    }
   ],
   "source": [
    "print(\"Planetas más cercanos a\", p_en)\n",
    "print(planetas[0:p_ind])"
   ]
  },
  {
   "cell_type": "code",
   "execution_count": 21,
   "metadata": {},
   "outputs": [
    {
     "name": "stdout",
     "output_type": "stream",
     "text": [
      "Planetas más lejanos a Júpiter\n",
      "['Saturno', 'Urano', 'Nepturno']\n"
     ]
    }
   ],
   "source": [
    "print(\"Planetas más lejanos a\", p_en)\n",
    "print(planetas[p_ind+1:])"
   ]
  }
 ],
 "metadata": {
  "interpreter": {
   "hash": "2be5faf79681da6f2a61fdfdd5405d65d042280f7fba6178067603e3a2925119"
  },
  "kernelspec": {
   "display_name": "Python 3.10.2 64-bit",
   "language": "python",
   "name": "python3"
  },
  "language_info": {
   "codemirror_mode": {
    "name": "ipython",
    "version": 3
   },
   "file_extension": ".py",
   "mimetype": "text/x-python",
   "name": "python",
   "nbconvert_exporter": "python",
   "pygments_lexer": "ipython3",
   "version": "3.10.2"
  },
  "orig_nbformat": 4
 },
 "nbformat": 4,
 "nbformat_minor": 2
}
