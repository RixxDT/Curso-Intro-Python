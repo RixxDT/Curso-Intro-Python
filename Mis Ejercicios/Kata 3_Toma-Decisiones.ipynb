{
 "cells": [
  {
   "cell_type": "markdown",
   "metadata": {},
   "source": [
    "ADVERTENCIA DE ACERCAMIENTO"
   ]
  },
  {
   "cell_type": "code",
   "execution_count": 2,
   "metadata": {},
   "outputs": [
    {
     "name": "stdout",
     "output_type": "stream",
     "text": [
      "¡El Asteroide se acerca demasiado rápido! La velocidad es de: 49 Km/s.\n"
     ]
    }
   ],
   "source": [
    "ast_vel=49\n",
    "\n",
    "if ast_vel>=25:\n",
    "    print(\"¡El Asteroide se acerca demasiado rápido!\", \"La velocidad es de:\",ast_vel,\"Km/s.\")"
   ]
  },
  {
   "cell_type": "markdown",
   "metadata": {},
   "source": [
    "ALERTA LUZ EN EL CIELO"
   ]
  },
  {
   "cell_type": "code",
   "execution_count": 4,
   "metadata": {},
   "outputs": [
    {
     "name": "stdout",
     "output_type": "stream",
     "text": [
      "¡Suerte para el proximo asteroide!\n"
     ]
    }
   ],
   "source": [
    "ast_vel=19\n",
    "\n",
    "if ast_vel>=20:\n",
    "    print(\"Estos no son fuegos artificales es el asteroide. ¡MIRA EL CIELO!\")\n",
    "else:\n",
    "    print(\"¡Suerte para el proximo asteroide!\")"
   ]
  },
  {
   "cell_type": "markdown",
   "metadata": {},
   "source": [
    "PROGRAMA ADVERTENCIA"
   ]
  },
  {
   "cell_type": "code",
   "execution_count": 5,
   "metadata": {},
   "outputs": [
    {
     "name": "stdout",
     "output_type": "stream",
     "text": [
      "Mirad al cielo. ¡Un fenix!\n"
     ]
    }
   ],
   "source": [
    "ast_vel=25\n",
    "ast_tam=40\n",
    "\n",
    "if ast_vel>25 and ast_tam>25:\n",
    "    print(\"¡ASTEROIDE GIGANTE! ¡VAMOS A MORIR!\")\n",
    "elif ast_vel>=20:\n",
    "    print(\"Mirad al cielo. ¡Un fénix!\")\n",
    "elif ast_tam<25:\n",
    "    print(\"Hoy es un día normal.\")\n",
    "else:\n",
    "    print(\"Hoy es un día normal.\")"
   ]
  }
 ],
 "metadata": {
  "interpreter": {
   "hash": "2be5faf79681da6f2a61fdfdd5405d65d042280f7fba6178067603e3a2925119"
  },
  "kernelspec": {
   "display_name": "Python 3.10.2 64-bit",
   "language": "python",
   "name": "python3"
  },
  "language_info": {
   "codemirror_mode": {
    "name": "ipython",
    "version": 3
   },
   "file_extension": ".py",
   "mimetype": "text/x-python",
   "name": "python",
   "nbconvert_exporter": "python",
   "pygments_lexer": "ipython3",
   "version": "3.10.2"
  },
  "orig_nbformat": 4
 },
 "nbformat": 4,
 "nbformat_minor": 2
}
